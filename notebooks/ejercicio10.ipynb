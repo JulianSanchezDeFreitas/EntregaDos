{
 "cells": [
  {
   "cell_type": "code",
   "execution_count": 14,
   "metadata": {},
   "outputs": [],
   "source": [
    "import os\n",
    "import sys\n",
    "ruta_proyecto = os.path.abspath(os.path.join(\"..\"))\n",
    "sys.path.append(ruta_proyecto)\n",
    "from src.funciones import actualizar_diccionario, imprimir_ronda, inicializar_diccionario\n",
    "\n"
   ]
  },
  {
   "cell_type": "markdown",
   "metadata": {},
   "source": [
    "Ejercicio 10"
   ]
  },
  {
   "cell_type": "code",
   "execution_count": null,
   "metadata": {},
   "outputs": [],
   "source": [
    "rounds = [\n",
    "{\n",
    "'Shadow': {'kills': 2, 'assists': 1, 'deaths': True},\n",
    "'Blaze': {'kills': 1, 'assists': 0, 'deaths': False},\n",
    "'Viper': {'kills': 1, 'assists': 2, 'deaths': True},\n",
    "'Frost': {'kills': 0, 'assists': 1, 'deaths': False},\n",
    "'Reaper': {'kills': 1, 'assists': 1, 'deaths': False}\n",
    "},\n",
    "{\n",
    "'Shadow': {'kills': 0, 'assists': 2, 'deaths': False},\n",
    "'Blaze': {'kills': 2, 'assists': 0, 'deaths': True},\n",
    "'Viper': {'kills': 1, 'assists': 1, 'deaths': False},\n",
    "'Frost': {'kills': 2, 'assists': 1, 'deaths': True},\n",
    "'Reaper': {'kills': 0, 'assists': 1, 'deaths': False}\n",
    "},\n",
    "{\n",
    "'Shadow': {'kills': 1, 'assists': 0, 'deaths': False},\n",
    "'Blaze': {'kills': 2, 'assists': 2, 'deaths': True},\n",
    "'Viper': {'kills': 1, 'assists': 1, 'deaths': True},\n",
    "'Frost': {'kills': 0, 'assists': 1, 'deaths': False},\n",
    "'Reaper': {'kills': 1, 'assists': 1, 'deaths': False}\n",
    "},\n",
    "{\n",
    "'Shadow': {'kills': 2, 'assists': 1, 'deaths': False},\n",
    "'Blaze': {'kills': 1, 'assists': 0, 'deaths': True},\n",
    "'Viper': {'kills': 0, 'assists': 2, 'deaths': False},\n",
    "'Frost': {'kills': 1, 'assists': 1, 'deaths': True},\n",
    "'Reaper': {'kills': 1, 'assists': 1, 'deaths': False}\n",
    "},\n",
    "{\n",
    "'Shadow': {'kills': 1, 'assists': 2, 'deaths': True},\n",
    "'Blaze': {'kills': 0, 'assists': 1, 'deaths': False},\n",
    "'Viper': {'kills': 2, 'assists': 0, 'deaths': True},\n",
    "'Frost': {'kills': 1, 'assists': 1, 'deaths': False},\n",
    "'Reaper': {'kills': 1, 'assists': 1, 'deaths': True}\n",
    "}\n",
    "]\n",
    "\n"
   ]
  },
  {
   "cell_type": "markdown",
   "metadata": {},
   "source": [
    "Programa principal"
   ]
  },
  {
   "cell_type": "code",
   "execution_count": 16,
   "metadata": {},
   "outputs": [
    {
     "name": "stdout",
     "output_type": "stream",
     "text": [
      "-------- ('RONDA', 1)-------------\n",
      "Jugador    | Asesinatos       | Asistencias     | Muertes     | MVPs       | Puntaje   \n",
      "Shadow   |         2               1             1              1                6\n",
      "Blaze   |         1               0             0              0                3\n",
      "Viper   |         1               2             1              0                4\n",
      "Frost   |         0               1             0              0                1\n",
      "Reaper   |         1               1             0              0                4\n",
      "-------- ('RONDA', 2)-------------\n",
      "Jugador    | Asesinatos       | Asistencias     | Muertes     | MVPs       | Puntaje   \n",
      "Shadow   |         2               3             1              1                8\n",
      "Blaze   |         3               0             1              0                8\n",
      "Viper   |         2               3             1              0                8\n",
      "Frost   |         2               2             1              1                7\n",
      "Reaper   |         1               2             0              0                5\n",
      "-------- ('RONDA', 3)-------------\n",
      "Jugador    | Asesinatos       | Asistencias     | Muertes     | MVPs       | Puntaje   \n",
      "Shadow   |         3               3             1              1                11\n",
      "Blaze   |         5               2             2              1                15\n",
      "Viper   |         3               4             2              0                11\n",
      "Frost   |         2               3             1              1                8\n",
      "Reaper   |         2               3             0              0                9\n",
      "-------- ('RONDA', 4)-------------\n",
      "Jugador    | Asesinatos       | Asistencias     | Muertes     | MVPs       | Puntaje   \n",
      "Shadow   |         5               4             1              2                18\n",
      "Blaze   |         6               2             3              1                17\n",
      "Viper   |         3               6             2              0                13\n",
      "Frost   |         3               4             2              1                11\n",
      "Reaper   |         3               4             0              0                13\n",
      "--------  RANKING FINAL-------------\n",
      "Jugador    | Asesinatos       | Asistencias     | Muertes     | MVPs       | Puntaje   \n",
      "Shadow   |         6               6             2              2                22\n",
      "Blaze   |         6               3             3              1                18\n",
      "Viper   |         5               6             3              1                18\n",
      "Frost   |         4               5             2              1                15\n",
      "Reaper   |         4               5             1              0                16\n"
     ]
    }
   ],
   "source": [
    "diccionario_actualizable = {}\n",
    "inicializar_diccionario(diccionario_actualizable, rounds[0])\n",
    "for i,ronda in enumerate(rounds):\n",
    "    print(f\"-------- { (\"RONDA\" , i+1) if i != 4 else \" RANKING FINAL\"}-------------\")\n",
    "    actualizar_diccionario(diccionario_actualizable, ronda)\n",
    "    imprimir_ronda(diccionario_actualizable)"
   ]
  }
 ],
 "metadata": {
  "kernelspec": {
   "display_name": ".venv",
   "language": "python",
   "name": "python3"
  },
  "language_info": {
   "codemirror_mode": {
    "name": "ipython",
    "version": 3
   },
   "file_extension": ".py",
   "mimetype": "text/x-python",
   "name": "python",
   "nbconvert_exporter": "python",
   "pygments_lexer": "ipython3",
   "version": "3.12.9"
  }
 },
 "nbformat": 4,
 "nbformat_minor": 2
}
